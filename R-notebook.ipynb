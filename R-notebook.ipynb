{
 "cells": [
  {
   "cell_type": "markdown",
   "metadata": {
    "slideshow": {
     "slide_type": "slide"
    }
   },
   "source": [
    "# What's this?\n",
    "\n",
    "This is an R-notebook. You can combine formatted text and R-code, run the cells and export in various formats.\n",
    "It consists of cells (text cells and code cells).\n",
    "\n",
    "\n",
    "- To change the code in a cell, click (cell border turns green) and type away.\n",
    "- To **run the code** hit \\[CTRL\\] and \\[ENTER\\] at the same time\n",
    "\n",
    "Further keyboard shortcuts:\n",
    "\n",
    "- H for Help\n",
    "- \\[Esc\\] to stop editing\n",
    "- to add a cell above or below the current, key A or B\n",
    "- to delete a cell, key D twice\n",
    "\n",
    "<div class=\"alert alert-success\">\n",
    "Don't worry, this is your individual copy. If you get totally lost, just revisit the link 'R-notebook'\n",
    "</div>\n",
    "\n"
   ]
  },
  {
   "cell_type": "code",
   "execution_count": 245,
   "metadata": {
    "init_cell": true
   },
   "outputs": [],
   "source": [
    "require(tidyverse)"
   ]
  },
  {
   "cell_type": "markdown",
   "metadata": {},
   "source": [
    "<div class=\"h1\">\n",
    "\n",
    " Two precious helpers: Pipeline and ggplot\n",
    "\n",
    "</div>"
   ]
  },
  {
   "cell_type": "markdown",
   "metadata": {},
   "source": [
    "## Pipeline\n",
    " \n",
    "### Traditionally &hellip; hieroglyph scripts!\n",
    "<img src=\"hieroglyphs.png\" />\n",
    "\n",
    " &hellip; working with R soon resulted in a workspace full of objects: initial dataframes, subsets, intermediate results etc.\n",
    " \n",
    "- hard to remember which is which when returning to your analysis over a couple of weeks\n",
    "- hard to reproduce for others\n",
    "- easy to forget to update all necessary nodes when input data change\n",
    "\n",
    "### enter 2013: the pipe operator\n",
    "\n",
    "<img src=\"pipe-op-1.png\" width=\"500px\" />\n",
    "\n",
    "The pipe operator made things much easier. With this operator, we can string a variety of operations into one concise chain.\n",
    "\n",
    "- ideally only one input and one output = no side effects messing up the workspace\n",
    "- concise, readable, reproducible\n",
    "\n",
    "### 2021 <sup>probably</sup>: a pipe operator will become part of base R 🔥\n",
    "\n",
    "The concept became so popular that the pipe operator will become part of base R in its oncoming version.\n",
    "\n",
    "\n"
   ]
  },
  {
   "cell_type": "markdown",
   "metadata": {},
   "source": [
    "### this is the pipe operator: %>%\n",
    "### you insert it this way\n",
    "\n",
    "<img src=\"hand.png\" width=\"50%\" />\n",
    "M as in <strong>M</strong>argritte:\n",
    "<img src=\"pipe.jpg\" width=\"20%\" />\n",
    "\n"
   ]
  },
  {
   "cell_type": "markdown",
   "metadata": {},
   "source": [
    "### Practise"
   ]
  },
  {
   "cell_type": "code",
   "execution_count": 12,
   "metadata": {},
   "outputs": [
    {
     "data": {
      "text/html": [
       "<table>\n",
       "<caption>A data.frame: 1 × 5</caption>\n",
       "<thead>\n",
       "\t<tr><th></th><th scope=col>Sepal.Length</th><th scope=col>Sepal.Width</th><th scope=col>Petal.Length</th><th scope=col>Petal.Width</th><th scope=col>Species</th></tr>\n",
       "\t<tr><th></th><th scope=col>&lt;dbl&gt;</th><th scope=col>&lt;dbl&gt;</th><th scope=col>&lt;dbl&gt;</th><th scope=col>&lt;dbl&gt;</th><th scope=col>&lt;fct&gt;</th></tr>\n",
       "</thead>\n",
       "<tbody>\n",
       "\t<tr><th scope=row>1</th><td>5.1</td><td>3.5</td><td>1.4</td><td>0.2</td><td>setosa</td></tr>\n",
       "</tbody>\n",
       "</table>\n"
      ],
      "text/latex": [
       "A data.frame: 1 × 5\n",
       "\\begin{tabular}{r|lllll}\n",
       "  & Sepal.Length & Sepal.Width & Petal.Length & Petal.Width & Species\\\\\n",
       "  & <dbl> & <dbl> & <dbl> & <dbl> & <fct>\\\\\n",
       "\\hline\n",
       "\t1 & 5.1 & 3.5 & 1.4 & 0.2 & setosa\\\\\n",
       "\\end{tabular}\n"
      ],
      "text/markdown": [
       "\n",
       "A data.frame: 1 × 5\n",
       "\n",
       "| <!--/--> | Sepal.Length &lt;dbl&gt; | Sepal.Width &lt;dbl&gt; | Petal.Length &lt;dbl&gt; | Petal.Width &lt;dbl&gt; | Species &lt;fct&gt; |\n",
       "|---|---|---|---|---|---|\n",
       "| 1 | 5.1 | 3.5 | 1.4 | 0.2 | setosa |\n",
       "\n"
      ],
      "text/plain": [
       "  Sepal.Length Sepal.Width Petal.Length Petal.Width Species\n",
       "1 5.1          3.5         1.4          0.2         setosa "
      ]
     },
     "metadata": {},
     "output_type": "display_data"
    }
   ],
   "source": [
    "head(iris, 1) ## traditional"
   ]
  },
  {
   "cell_type": "code",
   "execution_count": 14,
   "metadata": {
    "scrolled": true
   },
   "outputs": [
    {
     "data": {
      "text/html": [
       "<table>\n",
       "<caption>A data.frame: 1 × 5</caption>\n",
       "<thead>\n",
       "\t<tr><th></th><th scope=col>Sepal.Length</th><th scope=col>Sepal.Width</th><th scope=col>Petal.Length</th><th scope=col>Petal.Width</th><th scope=col>Species</th></tr>\n",
       "\t<tr><th></th><th scope=col>&lt;dbl&gt;</th><th scope=col>&lt;dbl&gt;</th><th scope=col>&lt;dbl&gt;</th><th scope=col>&lt;dbl&gt;</th><th scope=col>&lt;fct&gt;</th></tr>\n",
       "</thead>\n",
       "<tbody>\n",
       "\t<tr><th scope=row>1</th><td>5.1</td><td>3.5</td><td>1.4</td><td>0.2</td><td>setosa</td></tr>\n",
       "</tbody>\n",
       "</table>\n"
      ],
      "text/latex": [
       "A data.frame: 1 × 5\n",
       "\\begin{tabular}{r|lllll}\n",
       "  & Sepal.Length & Sepal.Width & Petal.Length & Petal.Width & Species\\\\\n",
       "  & <dbl> & <dbl> & <dbl> & <dbl> & <fct>\\\\\n",
       "\\hline\n",
       "\t1 & 5.1 & 3.5 & 1.4 & 0.2 & setosa\\\\\n",
       "\\end{tabular}\n"
      ],
      "text/markdown": [
       "\n",
       "A data.frame: 1 × 5\n",
       "\n",
       "| <!--/--> | Sepal.Length &lt;dbl&gt; | Sepal.Width &lt;dbl&gt; | Petal.Length &lt;dbl&gt; | Petal.Width &lt;dbl&gt; | Species &lt;fct&gt; |\n",
       "|---|---|---|---|---|---|\n",
       "| 1 | 5.1 | 3.5 | 1.4 | 0.2 | setosa |\n",
       "\n"
      ],
      "text/plain": [
       "  Sepal.Length Sepal.Width Petal.Length Petal.Width Species\n",
       "1 5.1          3.5         1.4          0.2         setosa "
      ]
     },
     "metadata": {},
     "output_type": "display_data"
    },
    {
     "data": {
      "text/html": [
       "<table>\n",
       "<caption>A data.frame: 1 × 5</caption>\n",
       "<thead>\n",
       "\t<tr><th></th><th scope=col>Sepal.Length</th><th scope=col>Sepal.Width</th><th scope=col>Petal.Length</th><th scope=col>Petal.Width</th><th scope=col>Species</th></tr>\n",
       "\t<tr><th></th><th scope=col>&lt;dbl&gt;</th><th scope=col>&lt;dbl&gt;</th><th scope=col>&lt;dbl&gt;</th><th scope=col>&lt;dbl&gt;</th><th scope=col>&lt;fct&gt;</th></tr>\n",
       "</thead>\n",
       "<tbody>\n",
       "\t<tr><th scope=row>1</th><td>5.1</td><td>3.5</td><td>1.4</td><td>0.2</td><td>setosa</td></tr>\n",
       "</tbody>\n",
       "</table>\n"
      ],
      "text/latex": [
       "A data.frame: 1 × 5\n",
       "\\begin{tabular}{r|lllll}\n",
       "  & Sepal.Length & Sepal.Width & Petal.Length & Petal.Width & Species\\\\\n",
       "  & <dbl> & <dbl> & <dbl> & <dbl> & <fct>\\\\\n",
       "\\hline\n",
       "\t1 & 5.1 & 3.5 & 1.4 & 0.2 & setosa\\\\\n",
       "\\end{tabular}\n"
      ],
      "text/markdown": [
       "\n",
       "A data.frame: 1 × 5\n",
       "\n",
       "| <!--/--> | Sepal.Length &lt;dbl&gt; | Sepal.Width &lt;dbl&gt; | Petal.Length &lt;dbl&gt; | Petal.Width &lt;dbl&gt; | Species &lt;fct&gt; |\n",
       "|---|---|---|---|---|---|\n",
       "| 1 | 5.1 | 3.5 | 1.4 | 0.2 | setosa |\n",
       "\n"
      ],
      "text/plain": [
       "  Sepal.Length Sepal.Width Petal.Length Petal.Width Species\n",
       "1 5.1          3.5         1.4          0.2         setosa "
      ]
     },
     "metadata": {},
     "output_type": "display_data"
    }
   ],
   "source": [
    "iris %>% head(.,1) ## the dot represents the incoming dataframe\n",
    "iris %>% head(1) ## but normally you don't even have to explicit it"
   ]
  },
  {
   "cell_type": "markdown",
   "metadata": {},
   "source": [
    "### Useful pipe operations &hellip;\n",
    "#### filter:"
   ]
  },
  {
   "cell_type": "markdown",
   "metadata": {},
   "source": [
    "show first entry of all obs. with sepals > 6"
   ]
  },
  {
   "cell_type": "code",
   "execution_count": 182,
   "metadata": {},
   "outputs": [],
   "source": [
    "?subset"
   ]
  },
  {
   "cell_type": "code",
   "execution_count": 183,
   "metadata": {},
   "outputs": [
    {
     "data": {
      "text/html": [
       "<table>\n",
       "<caption>A data.frame: 1 × 5</caption>\n",
       "<thead>\n",
       "\t<tr><th></th><th scope=col>Sepal.Length</th><th scope=col>Sepal.Width</th><th scope=col>Petal.Length</th><th scope=col>Petal.Width</th><th scope=col>Species</th></tr>\n",
       "\t<tr><th></th><th scope=col>&lt;dbl&gt;</th><th scope=col>&lt;dbl&gt;</th><th scope=col>&lt;dbl&gt;</th><th scope=col>&lt;dbl&gt;</th><th scope=col>&lt;fct&gt;</th></tr>\n",
       "</thead>\n",
       "<tbody>\n",
       "\t<tr><th scope=row>1</th><td>5.1</td><td>3.5</td><td>1.4</td><td>0.2</td><td>setosa</td></tr>\n",
       "</tbody>\n",
       "</table>\n"
      ],
      "text/latex": [
       "A data.frame: 1 × 5\n",
       "\\begin{tabular}{r|lllll}\n",
       "  & Sepal.Length & Sepal.Width & Petal.Length & Petal.Width & Species\\\\\n",
       "  & <dbl> & <dbl> & <dbl> & <dbl> & <fct>\\\\\n",
       "\\hline\n",
       "\t1 & 5.1 & 3.5 & 1.4 & 0.2 & setosa\\\\\n",
       "\\end{tabular}\n"
      ],
      "text/markdown": [
       "\n",
       "A data.frame: 1 × 5\n",
       "\n",
       "| <!--/--> | Sepal.Length &lt;dbl&gt; | Sepal.Width &lt;dbl&gt; | Petal.Length &lt;dbl&gt; | Petal.Width &lt;dbl&gt; | Species &lt;fct&gt; |\n",
       "|---|---|---|---|---|---|\n",
       "| 1 | 5.1 | 3.5 | 1.4 | 0.2 | setosa |\n",
       "\n"
      ],
      "text/plain": [
       "  Sepal.Length Sepal.Width Petal.Length Petal.Width Species\n",
       "1 5.1          3.5         1.4          0.2         setosa "
      ]
     },
     "metadata": {},
     "output_type": "display_data"
    }
   ],
   "source": [
    "iris[\"Sepal.Length\" > 6, ][1,] ## traditional indexing\n",
    "## subset(iris, Sepal.Length > 6)[1,] # using subset"
   ]
  },
  {
   "cell_type": "code",
   "execution_count": 28,
   "metadata": {},
   "outputs": [
    {
     "data": {
      "text/html": [
       "<table>\n",
       "<caption>A data.frame: 1 × 5</caption>\n",
       "<thead>\n",
       "\t<tr><th></th><th scope=col>Sepal.Length</th><th scope=col>Sepal.Width</th><th scope=col>Petal.Length</th><th scope=col>Petal.Width</th><th scope=col>Species</th></tr>\n",
       "\t<tr><th></th><th scope=col>&lt;dbl&gt;</th><th scope=col>&lt;dbl&gt;</th><th scope=col>&lt;dbl&gt;</th><th scope=col>&lt;dbl&gt;</th><th scope=col>&lt;fct&gt;</th></tr>\n",
       "</thead>\n",
       "<tbody>\n",
       "\t<tr><th scope=row>1</th><td>7</td><td>3.2</td><td>4.7</td><td>1.4</td><td>versicolor</td></tr>\n",
       "</tbody>\n",
       "</table>\n"
      ],
      "text/latex": [
       "A data.frame: 1 × 5\n",
       "\\begin{tabular}{r|lllll}\n",
       "  & Sepal.Length & Sepal.Width & Petal.Length & Petal.Width & Species\\\\\n",
       "  & <dbl> & <dbl> & <dbl> & <dbl> & <fct>\\\\\n",
       "\\hline\n",
       "\t1 & 7 & 3.2 & 4.7 & 1.4 & versicolor\\\\\n",
       "\\end{tabular}\n"
      ],
      "text/markdown": [
       "\n",
       "A data.frame: 1 × 5\n",
       "\n",
       "| <!--/--> | Sepal.Length &lt;dbl&gt; | Sepal.Width &lt;dbl&gt; | Petal.Length &lt;dbl&gt; | Petal.Width &lt;dbl&gt; | Species &lt;fct&gt; |\n",
       "|---|---|---|---|---|---|\n",
       "| 1 | 7 | 3.2 | 4.7 | 1.4 | versicolor |\n",
       "\n"
      ],
      "text/plain": [
       "  Sepal.Length Sepal.Width Petal.Length Petal.Width Species   \n",
       "1 7            3.2         4.7          1.4         versicolor"
      ]
     },
     "metadata": {},
     "output_type": "display_data"
    }
   ],
   "source": [
    "## becomes:\n",
    "iris %>%\n",
    "    filter(Sepal.Length > 6) %>%\n",
    "    head(1)"
   ]
  },
  {
   "cell_type": "markdown",
   "metadata": {},
   "source": [
    "^^^ in fact, this pipeline takes is more verbose than traditional indexing. However, it is more expressive about what's happening in which order."
   ]
  },
  {
   "cell_type": "code",
   "execution_count": 32,
   "metadata": {},
   "outputs": [
    {
     "data": {
      "text/html": [
       "<table>\n",
       "<caption>A data.frame: 1 × 5</caption>\n",
       "<thead>\n",
       "\t<tr><th></th><th scope=col>Sepal.Length</th><th scope=col>Sepal.Width</th><th scope=col>Petal.Length</th><th scope=col>Petal.Width</th><th scope=col>Species</th></tr>\n",
       "\t<tr><th></th><th scope=col>&lt;dbl&gt;</th><th scope=col>&lt;dbl&gt;</th><th scope=col>&lt;dbl&gt;</th><th scope=col>&lt;dbl&gt;</th><th scope=col>&lt;fct&gt;</th></tr>\n",
       "</thead>\n",
       "<tbody>\n",
       "\t<tr><th scope=row>1</th><td>7</td><td>3.2</td><td>4.7</td><td>1.4</td><td>versicolor</td></tr>\n",
       "</tbody>\n",
       "</table>\n"
      ],
      "text/latex": [
       "A data.frame: 1 × 5\n",
       "\\begin{tabular}{r|lllll}\n",
       "  & Sepal.Length & Sepal.Width & Petal.Length & Petal.Width & Species\\\\\n",
       "  & <dbl> & <dbl> & <dbl> & <dbl> & <fct>\\\\\n",
       "\\hline\n",
       "\t1 & 7 & 3.2 & 4.7 & 1.4 & versicolor\\\\\n",
       "\\end{tabular}\n"
      ],
      "text/markdown": [
       "\n",
       "A data.frame: 1 × 5\n",
       "\n",
       "| <!--/--> | Sepal.Length &lt;dbl&gt; | Sepal.Width &lt;dbl&gt; | Petal.Length &lt;dbl&gt; | Petal.Width &lt;dbl&gt; | Species &lt;fct&gt; |\n",
       "|---|---|---|---|---|---|\n",
       "| 1 | 7 | 3.2 | 4.7 | 1.4 | versicolor |\n",
       "\n"
      ],
      "text/plain": [
       "  Sepal.Length Sepal.Width Petal.Length Petal.Width Species   \n",
       "1 7            3.2         4.7          1.4         versicolor"
      ]
     },
     "metadata": {},
     "output_type": "display_data"
    }
   ],
   "source": [
    "## more conditions\n",
    "iris %>%\n",
    "    filter(Sepal.Length > 6, Species == \"versicolor\") %>%\n",
    "    head(1)"
   ]
  },
  {
   "cell_type": "markdown",
   "metadata": {},
   "source": [
    "<big>✍️</big>   **Which Starwars characters have blue eyes?**\n",
    "\n",
    "- dataset: starwars\n",
    "- *glimpse* gives an overview over variables and values\n",
    "- filter filters the desired variable for a given set of values\n",
    "- *select* selects variables (the whole dataframe is quite broad)"
   ]
  },
  {
   "cell_type": "markdown",
   "metadata": {},
   "source": [
    "#### summarise:"
   ]
  },
  {
   "cell_type": "code",
   "execution_count": 34,
   "metadata": {},
   "outputs": [
    {
     "data": {
      "text/html": [
       "<table>\n",
       "<caption>A data.frame: 1 × 2</caption>\n",
       "<thead>\n",
       "\t<tr><th scope=col>observation_count</th><th scope=col>mean_sepal_length</th></tr>\n",
       "\t<tr><th scope=col>&lt;int&gt;</th><th scope=col>&lt;dbl&gt;</th></tr>\n",
       "</thead>\n",
       "<tbody>\n",
       "\t<tr><td>150</td><td>5.843333</td></tr>\n",
       "</tbody>\n",
       "</table>\n"
      ],
      "text/latex": [
       "A data.frame: 1 × 2\n",
       "\\begin{tabular}{ll}\n",
       " observation\\_count & mean\\_sepal\\_length\\\\\n",
       " <int> & <dbl>\\\\\n",
       "\\hline\n",
       "\t 150 & 5.843333\\\\\n",
       "\\end{tabular}\n"
      ],
      "text/markdown": [
       "\n",
       "A data.frame: 1 × 2\n",
       "\n",
       "| observation_count &lt;int&gt; | mean_sepal_length &lt;dbl&gt; |\n",
       "|---|---|\n",
       "| 150 | 5.843333 |\n",
       "\n"
      ],
      "text/plain": [
       "  observation_count mean_sepal_length\n",
       "1 150               5.843333         "
      ]
     },
     "metadata": {},
     "output_type": "display_data"
    }
   ],
   "source": [
    "iris %>%\n",
    "    summarise(\n",
    "            observation_count = n(),\n",
    "            mean_sepal_length = mean(Sepal.Length)\n",
    "    )"
   ]
  },
  {
   "cell_type": "code",
   "execution_count": 80,
   "metadata": {},
   "outputs": [
    {
     "data": {
      "text/html": [
       "<table>\n",
       "<caption>A data.frame: 1 × 4</caption>\n",
       "<thead>\n",
       "\t<tr><th scope=col>Sepal.Length</th><th scope=col>Sepal.Width</th><th scope=col>Petal.Length</th><th scope=col>Petal.Width</th></tr>\n",
       "\t<tr><th scope=col>&lt;dbl&gt;</th><th scope=col>&lt;dbl&gt;</th><th scope=col>&lt;dbl&gt;</th><th scope=col>&lt;dbl&gt;</th></tr>\n",
       "</thead>\n",
       "<tbody>\n",
       "\t<tr><td>5.843333</td><td>3.057333</td><td>3.758</td><td>1.199333</td></tr>\n",
       "</tbody>\n",
       "</table>\n"
      ],
      "text/latex": [
       "A data.frame: 1 × 4\n",
       "\\begin{tabular}{llll}\n",
       " Sepal.Length & Sepal.Width & Petal.Length & Petal.Width\\\\\n",
       " <dbl> & <dbl> & <dbl> & <dbl>\\\\\n",
       "\\hline\n",
       "\t 5.843333 & 3.057333 & 3.758 & 1.199333\\\\\n",
       "\\end{tabular}\n"
      ],
      "text/markdown": [
       "\n",
       "A data.frame: 1 × 4\n",
       "\n",
       "| Sepal.Length &lt;dbl&gt; | Sepal.Width &lt;dbl&gt; | Petal.Length &lt;dbl&gt; | Petal.Width &lt;dbl&gt; |\n",
       "|---|---|---|---|\n",
       "| 5.843333 | 3.057333 | 3.758 | 1.199333 |\n",
       "\n"
      ],
      "text/plain": [
       "  Sepal.Length Sepal.Width Petal.Length Petal.Width\n",
       "1 5.843333     3.057333    3.758        1.199333   "
      ]
     },
     "metadata": {},
     "output_type": "display_data"
    }
   ],
   "source": [
    "## summarise only numeric variables\n",
    "iris %>%\n",
    "    summarise(across(where(is.numeric), ## select numeric vars\n",
    "                     mean, na.rm=TRUE)\n",
    "             )"
   ]
  },
  {
   "cell_type": "code",
   "execution_count": 75,
   "metadata": {},
   "outputs": [
    {
     "data": {
      "text/html": [
       "<table>\n",
       "<caption>A data.frame: 5 × 3</caption>\n",
       "<thead>\n",
       "\t<tr><th scope=col>Sepal.Length</th><th scope=col>Sepal.Width</th><th scope=col>names</th></tr>\n",
       "\t<tr><th scope=col>&lt;dbl&gt;</th><th scope=col>&lt;dbl&gt;</th><th scope=col>&lt;chr&gt;</th></tr>\n",
       "</thead>\n",
       "<tbody>\n",
       "\t<tr><td>4.3</td><td>2.0</td><td>0th quartile</td></tr>\n",
       "\t<tr><td>5.1</td><td>2.8</td><td>1th quartile</td></tr>\n",
       "\t<tr><td>5.8</td><td>3.0</td><td>2th quartile</td></tr>\n",
       "\t<tr><td>6.4</td><td>3.3</td><td>3th quartile</td></tr>\n",
       "\t<tr><td>7.9</td><td>4.4</td><td>4th quartile</td></tr>\n",
       "</tbody>\n",
       "</table>\n"
      ],
      "text/latex": [
       "A data.frame: 5 × 3\n",
       "\\begin{tabular}{lll}\n",
       " Sepal.Length & Sepal.Width & names\\\\\n",
       " <dbl> & <dbl> & <chr>\\\\\n",
       "\\hline\n",
       "\t 4.3 & 2.0 & 0th quartile\\\\\n",
       "\t 5.1 & 2.8 & 1th quartile\\\\\n",
       "\t 5.8 & 3.0 & 2th quartile\\\\\n",
       "\t 6.4 & 3.3 & 3th quartile\\\\\n",
       "\t 7.9 & 4.4 & 4th quartile\\\\\n",
       "\\end{tabular}\n"
      ],
      "text/markdown": [
       "\n",
       "A data.frame: 5 × 3\n",
       "\n",
       "| Sepal.Length &lt;dbl&gt; | Sepal.Width &lt;dbl&gt; | names &lt;chr&gt; |\n",
       "|---|---|---|\n",
       "| 4.3 | 2.0 | 0th quartile |\n",
       "| 5.1 | 2.8 | 1th quartile |\n",
       "| 5.8 | 3.0 | 2th quartile |\n",
       "| 6.4 | 3.3 | 3th quartile |\n",
       "| 7.9 | 4.4 | 4th quartile |\n",
       "\n"
      ],
      "text/plain": [
       "  Sepal.Length Sepal.Width names       \n",
       "1 4.3          2.0         0th quartile\n",
       "2 5.1          2.8         1th quartile\n",
       "3 5.8          3.0         2th quartile\n",
       "4 6.4          3.3         3th quartile\n",
       "5 7.9          4.4         4th quartile"
      ]
     },
     "metadata": {},
     "output_type": "display_data"
    }
   ],
   "source": [
    "## summarise only petal data with \"fivenums\" = 0-4th quartile\n",
    "iris %>%\n",
    "    summarise(across(starts_with(\"Sepal\"),fivenum),\n",
    "              names = paste0(0:4, \"th quartile\")\n",
    "    )"
   ]
  },
  {
   "cell_type": "markdown",
   "metadata": {},
   "source": [
    "#### mutate:"
   ]
  },
  {
   "cell_type": "code",
   "execution_count": 94,
   "metadata": {},
   "outputs": [
    {
     "data": {
      "text/html": [
       "<table>\n",
       "<caption>A data.frame: 1 × 6</caption>\n",
       "<thead>\n",
       "\t<tr><th></th><th scope=col>Sepal.Length</th><th scope=col>Sepal.Width</th><th scope=col>Petal.Length</th><th scope=col>Petal.Width</th><th scope=col>Species</th><th scope=col>Double_Sepal_Length</th></tr>\n",
       "\t<tr><th></th><th scope=col>&lt;dbl&gt;</th><th scope=col>&lt;dbl&gt;</th><th scope=col>&lt;dbl&gt;</th><th scope=col>&lt;dbl&gt;</th><th scope=col>&lt;chr&gt;</th><th scope=col>&lt;dbl&gt;</th></tr>\n",
       "</thead>\n",
       "<tbody>\n",
       "\t<tr><th scope=row>1</th><td>5.1</td><td>3.5</td><td>1.4</td><td>0.2</td><td>species: setosa</td><td>10.2</td></tr>\n",
       "</tbody>\n",
       "</table>\n"
      ],
      "text/latex": [
       "A data.frame: 1 × 6\n",
       "\\begin{tabular}{r|llllll}\n",
       "  & Sepal.Length & Sepal.Width & Petal.Length & Petal.Width & Species & Double\\_Sepal\\_Length\\\\\n",
       "  & <dbl> & <dbl> & <dbl> & <dbl> & <chr> & <dbl>\\\\\n",
       "\\hline\n",
       "\t1 & 5.1 & 3.5 & 1.4 & 0.2 & species: setosa & 10.2\\\\\n",
       "\\end{tabular}\n"
      ],
      "text/markdown": [
       "\n",
       "A data.frame: 1 × 6\n",
       "\n",
       "| <!--/--> | Sepal.Length &lt;dbl&gt; | Sepal.Width &lt;dbl&gt; | Petal.Length &lt;dbl&gt; | Petal.Width &lt;dbl&gt; | Species &lt;chr&gt; | Double_Sepal_Length &lt;dbl&gt; |\n",
       "|---|---|---|---|---|---|---|\n",
       "| 1 | 5.1 | 3.5 | 1.4 | 0.2 | species: setosa | 10.2 |\n",
       "\n"
      ],
      "text/plain": [
       "  Sepal.Length Sepal.Width Petal.Length Petal.Width Species        \n",
       "1 5.1          3.5         1.4          0.2         species: setosa\n",
       "  Double_Sepal_Length\n",
       "1 10.2               "
      ]
     },
     "metadata": {},
     "output_type": "display_data"
    }
   ],
   "source": [
    "iris %>%\n",
    "    mutate (\n",
    "            Species = paste(\"species\",Species, sep=\": \"),\n",
    "            Double_Sepal_Length = 2 * Sepal.Length\n",
    "           ) %>% head(1)"
   ]
  },
  {
   "cell_type": "markdown",
   "metadata": {},
   "source": [
    "#### group:"
   ]
  },
  {
   "cell_type": "code",
   "execution_count": 102,
   "metadata": {},
   "outputs": [
    {
     "name": "stderr",
     "output_type": "stream",
     "text": [
      "`summarise()` ungrouping output (override with `.groups` argument)\n",
      "\n"
     ]
    },
    {
     "data": {
      "text/html": [
       "<table>\n",
       "<caption>A tibble: 3 × 3</caption>\n",
       "<thead>\n",
       "\t<tr><th scope=col>Species</th><th scope=col>obs_per_species</th><th scope=col>broad_sepals</th></tr>\n",
       "\t<tr><th scope=col>&lt;fct&gt;</th><th scope=col>&lt;int&gt;</th><th scope=col>&lt;int&gt;</th></tr>\n",
       "</thead>\n",
       "<tbody>\n",
       "\t<tr><td>setosa    </td><td>50</td><td>42</td></tr>\n",
       "\t<tr><td>versicolor</td><td>50</td><td> 8</td></tr>\n",
       "\t<tr><td>virginica </td><td>50</td><td>17</td></tr>\n",
       "</tbody>\n",
       "</table>\n"
      ],
      "text/latex": [
       "A tibble: 3 × 3\n",
       "\\begin{tabular}{lll}\n",
       " Species & obs\\_per\\_species & broad\\_sepals\\\\\n",
       " <fct> & <int> & <int>\\\\\n",
       "\\hline\n",
       "\t setosa     & 50 & 42\\\\\n",
       "\t versicolor & 50 &  8\\\\\n",
       "\t virginica  & 50 & 17\\\\\n",
       "\\end{tabular}\n"
      ],
      "text/markdown": [
       "\n",
       "A tibble: 3 × 3\n",
       "\n",
       "| Species &lt;fct&gt; | obs_per_species &lt;int&gt; | broad_sepals &lt;int&gt; |\n",
       "|---|---|---|\n",
       "| setosa     | 50 | 42 |\n",
       "| versicolor | 50 |  8 |\n",
       "| virginica  | 50 | 17 |\n",
       "\n"
      ],
      "text/plain": [
       "  Species    obs_per_species broad_sepals\n",
       "1 setosa     50              42          \n",
       "2 versicolor 50               8          \n",
       "3 virginica  50              17          "
      ]
     },
     "metadata": {},
     "output_type": "display_data"
    }
   ],
   "source": [
    "iris %>%\n",
    "    group_by(Species) %>%\n",
    "    summarise(obs_per_species = n(),\n",
    "             broad_sepals = sum(Sepal.Width > 3)\n",
    "    )"
   ]
  },
  {
   "cell_type": "markdown",
   "metadata": {},
   "source": [
    "#### reshape"
   ]
  },
  {
   "cell_type": "markdown",
   "metadata": {},
   "source": [
    "**Reshaping from wide (usually from spreadsheet data) to long format is an important step in data preparation**\n",
    "- it facilitates grouped analysis, from simple summarising to nested models\n",
    "- it prepares the ground for facetted plotting)"
   ]
  },
  {
   "cell_type": "markdown",
   "metadata": {},
   "source": [
    "Preview the iris dataset (again): it's in *wide* format: one variable along each other. This is the format typically used with spreadsheet software."
   ]
  },
  {
   "cell_type": "code",
   "execution_count": 118,
   "metadata": {},
   "outputs": [
    {
     "data": {
      "text/html": [
       "<table>\n",
       "<caption>A data.frame: 1 × 5</caption>\n",
       "<thead>\n",
       "\t<tr><th></th><th scope=col>Sepal.Length</th><th scope=col>Sepal.Width</th><th scope=col>Petal.Length</th><th scope=col>Petal.Width</th><th scope=col>Species</th></tr>\n",
       "\t<tr><th></th><th scope=col>&lt;dbl&gt;</th><th scope=col>&lt;dbl&gt;</th><th scope=col>&lt;dbl&gt;</th><th scope=col>&lt;dbl&gt;</th><th scope=col>&lt;fct&gt;</th></tr>\n",
       "</thead>\n",
       "<tbody>\n",
       "\t<tr><th scope=row>1</th><td>5.1</td><td>3.5</td><td>1.4</td><td>0.2</td><td>setosa</td></tr>\n",
       "</tbody>\n",
       "</table>\n"
      ],
      "text/latex": [
       "A data.frame: 1 × 5\n",
       "\\begin{tabular}{r|lllll}\n",
       "  & Sepal.Length & Sepal.Width & Petal.Length & Petal.Width & Species\\\\\n",
       "  & <dbl> & <dbl> & <dbl> & <dbl> & <fct>\\\\\n",
       "\\hline\n",
       "\t1 & 5.1 & 3.5 & 1.4 & 0.2 & setosa\\\\\n",
       "\\end{tabular}\n"
      ],
      "text/markdown": [
       "\n",
       "A data.frame: 1 × 5\n",
       "\n",
       "| <!--/--> | Sepal.Length &lt;dbl&gt; | Sepal.Width &lt;dbl&gt; | Petal.Length &lt;dbl&gt; | Petal.Width &lt;dbl&gt; | Species &lt;fct&gt; |\n",
       "|---|---|---|---|---|---|\n",
       "| 1 | 5.1 | 3.5 | 1.4 | 0.2 | setosa |\n",
       "\n"
      ],
      "text/plain": [
       "  Sepal.Length Sepal.Width Petal.Length Petal.Width Species\n",
       "1 5.1          3.5         1.4          0.2         setosa "
      ]
     },
     "metadata": {},
     "output_type": "display_data"
    }
   ],
   "source": [
    "iris %>% head(1)"
   ]
  },
  {
   "cell_type": "markdown",
   "metadata": {},
   "source": [
    "Sepal length, petal width etc. can be seen as categories of a joint variable \"flower dimension\" rather than separate variables. Let's gather these under a common variable:"
   ]
  },
  {
   "cell_type": "code",
   "execution_count": 141,
   "metadata": {},
   "outputs": [
    {
     "data": {
      "text/html": [
       "<table>\n",
       "<caption>A tibble: 3 × 4</caption>\n",
       "<thead>\n",
       "\t<tr><th scope=col>Species</th><th scope=col>id</th><th scope=col>dimension</th><th scope=col>measured value</th></tr>\n",
       "\t<tr><th scope=col>&lt;fct&gt;</th><th scope=col>&lt;int&gt;</th><th scope=col>&lt;chr&gt;</th><th scope=col>&lt;dbl&gt;</th></tr>\n",
       "</thead>\n",
       "<tbody>\n",
       "\t<tr><td>setosa   </td><td> 37</td><td>Petal.Width </td><td>0.2</td></tr>\n",
       "\t<tr><td>setosa   </td><td> 39</td><td>Petal.Width </td><td>0.2</td></tr>\n",
       "\t<tr><td>virginica</td><td>142</td><td>Sepal.Length</td><td>6.9</td></tr>\n",
       "</tbody>\n",
       "</table>\n"
      ],
      "text/latex": [
       "A tibble: 3 × 4\n",
       "\\begin{tabular}{llll}\n",
       " Species & id & dimension & measured value\\\\\n",
       " <fct> & <int> & <chr> & <dbl>\\\\\n",
       "\\hline\n",
       "\t setosa    &  37 & Petal.Width  & 0.2\\\\\n",
       "\t setosa    &  39 & Petal.Width  & 0.2\\\\\n",
       "\t virginica & 142 & Sepal.Length & 6.9\\\\\n",
       "\\end{tabular}\n"
      ],
      "text/markdown": [
       "\n",
       "A tibble: 3 × 4\n",
       "\n",
       "| Species &lt;fct&gt; | id &lt;int&gt; | dimension &lt;chr&gt; | measured value &lt;dbl&gt; |\n",
       "|---|---|---|---|\n",
       "| setosa    |  37 | Petal.Width  | 0.2 |\n",
       "| setosa    |  39 | Petal.Width  | 0.2 |\n",
       "| virginica | 142 | Sepal.Length | 6.9 |\n",
       "\n"
      ],
      "text/plain": [
       "  Species   id  dimension    measured value\n",
       "1 setosa     37 Petal.Width  0.2           \n",
       "2 setosa     39 Petal.Width  0.2           \n",
       "3 virginica 142 Sepal.Length 6.9           "
      ]
     },
     "metadata": {},
     "output_type": "display_data"
    }
   ],
   "source": [
    "iris %>%\n",
    "    mutate (id = row_number()) %>%\n",
    "    pivot_longer(cols = -c(id,Species),\n",
    "                names_to = \"dimension\",\n",
    "                values_to = \"measured value\") %>%\n",
    "    sample_n(3) ## sample five obs (don't print the whole thing)"
   ]
  },
  {
   "cell_type": "markdown",
   "metadata": {},
   "source": [
    "The dataframe in *long* format is easier to process for most types of dataframe operations:"
   ]
  },
  {
   "cell_type": "code",
   "execution_count": 153,
   "metadata": {},
   "outputs": [
    {
     "name": "stderr",
     "output_type": "stream",
     "text": [
      "`summarise()` regrouping output by 'Species' (override with `.groups` argument)\n",
      "\n"
     ]
    },
    {
     "data": {
      "text/html": [
       "<table>\n",
       "<caption>A tibble: 3 × 3</caption>\n",
       "<thead>\n",
       "\t<tr><th scope=col>Species</th><th scope=col>dimension</th><th scope=col>mean</th></tr>\n",
       "\t<tr><th scope=col>&lt;fct&gt;</th><th scope=col>&lt;chr&gt;</th><th scope=col>&lt;dbl&gt;</th></tr>\n",
       "</thead>\n",
       "<tbody>\n",
       "\t<tr><td>versicolor</td><td>Petal.Width </td><td>1.326</td></tr>\n",
       "\t<tr><td>setosa    </td><td>Sepal.Length</td><td>5.006</td></tr>\n",
       "\t<tr><td>setosa    </td><td>Petal.Width </td><td>0.246</td></tr>\n",
       "</tbody>\n",
       "</table>\n"
      ],
      "text/latex": [
       "A tibble: 3 × 3\n",
       "\\begin{tabular}{lll}\n",
       " Species & dimension & mean\\\\\n",
       " <fct> & <chr> & <dbl>\\\\\n",
       "\\hline\n",
       "\t versicolor & Petal.Width  & 1.326\\\\\n",
       "\t setosa     & Sepal.Length & 5.006\\\\\n",
       "\t setosa     & Petal.Width  & 0.246\\\\\n",
       "\\end{tabular}\n"
      ],
      "text/markdown": [
       "\n",
       "A tibble: 3 × 3\n",
       "\n",
       "| Species &lt;fct&gt; | dimension &lt;chr&gt; | mean &lt;dbl&gt; |\n",
       "|---|---|---|\n",
       "| versicolor | Petal.Width  | 1.326 |\n",
       "| setosa     | Sepal.Length | 5.006 |\n",
       "| setosa     | Petal.Width  | 0.246 |\n",
       "\n"
      ],
      "text/plain": [
       "  Species    dimension    mean \n",
       "1 versicolor Petal.Width  1.326\n",
       "2 setosa     Sepal.Length 5.006\n",
       "3 setosa     Petal.Width  0.246"
      ]
     },
     "metadata": {},
     "output_type": "display_data"
    }
   ],
   "source": [
    "iris %>%\n",
    "\n",
    "    mutate (id = row_number()) %>%\n",
    "    pivot_longer(cols = -c(id,Species),\n",
    "                names_to = \"dimension\",\n",
    "                values_to = \"measured value\") %>%\n",
    "\n",
    "    group_by (Species, dimension) %>% \n",
    "    summarise(mean = mean(`measured value`, na.rm = TRUE)) %>% ## note the backticks\n",
    "    ungroup %>% ## what would happen with the dataframe still grouped?\n",
    "    sample_n(3) "
   ]
  },
  {
   "cell_type": "markdown",
   "metadata": {},
   "source": [
    "<big>✍️</big>   **Which species from the iris dataset have a correlation between petal and sepal lengths > 0.6?**\n",
    "\n",
    "- group_by groups data\n",
    "- cor() returns the correlation coeff\n",
    "- filter filters"
   ]
  },
  {
   "cell_type": "markdown",
   "metadata": {},
   "source": [
    "<big>✍️</big>   **What's the most common eye color among Starwars characters?**\n",
    "\n",
    "- group_by groups data\n",
    "- *n()* counts rows\n",
    "- *arrange*(vars) sorts a data frame\n",
    "- *arrange*(desc(vars)) reverse sorts a data frame\n",
    "- *top_n(n, vars)* / *top_frac(x, vars)* return rows with top values of vars"
   ]
  },
  {
   "cell_type": "markdown",
   "metadata": {},
   "source": [
    " <div class=\"h1\">\n",
    "\n",
    "ggplot\n",
    "\n",
    "</div>"
   ]
  },
  {
   "cell_type": "markdown",
   "metadata": {},
   "source": [
    "**<a href=\"\" target=\"_blank\">ggplot</a>** is a visualisation package for R. (It was developed by the <a href=\"https://en.wikipedia.org/wiki/Hadley_Wickham\" target=\"_blank\">same guy</a> as the pipe operator.)\n",
    "ggplot is probably the most popular plot package for R. It will handle all types of plots, and there's a still growing zoo of <a href=\"https://exts.ggplot2.tidyverse.org/gallery/\" target=\"\">extensions</a> which all share the same *grammar*: you only have to learn it once.\n",
    "\n",
    "<blockquote class=\"blockquote\">\n",
    "  <p>I probably haven't used any R plot tools other than ggplot (and extensions) for ten years. </p>\n",
    "</blockquote>\n",
    "\n"
   ]
  },
  {
   "cell_type": "markdown",
   "metadata": {},
   "source": [
    "\n",
    "## What's different about ggplot?\n",
    "\n",
    "- A ggplot is composed from elements, like a sentenced is composed from words (of different type), following a grammar.\n",
    "- These elements are combined with '+' but this is not an algebraic '+' as normally in R"
   ]
  },
  {
   "cell_type": "markdown",
   "metadata": {},
   "source": [
    "### main elements\n",
    "\n",
    "- data (of course)\n",
    "- mapping of data values to aesthetics (e.g.: x/y-position, colour, bubble size)\n",
    "- geom = the plot geometry (scatter, box, line, violin &hellip;)\n",
    "\n",
    "#### further elements\n",
    "- axes (type, style)\n",
    "- coordinate system\n",
    "- facets\n",
    "\n",
    "^^^ further elements can be specified to fine-tune the chart. If not, they are replaced with sensible default.\n"
   ]
  },
  {
   "cell_type": "code",
   "execution_count": 241,
   "metadata": {},
   "outputs": [],
   "source": [
    "options(repr.plot.width=3, repr.plot.height=3) ## a hack to reduce plot size in this notebook"
   ]
  },
  {
   "cell_type": "markdown",
   "metadata": {},
   "source": [
    "## Constructing a ggplot\n",
    "\n",
    "<span class=\"badge\">1</span> feed the data, preferably via the pipe:\n",
    "<pre>\n",
    "iris %>%\n",
    "    ggplot()\n",
    "</pre>\n",
    "&hellip; nothing happens: ggplot doesn't know yet, which kind of plot (geom) to produce, or which variables to map to which aesthetics (aes) = things you can see in the plot"
   ]
  },
  {
   "cell_type": "markdown",
   "metadata": {},
   "source": [
    "<span class=\"badge\">2</span> choose aesthetics and plot type"
   ]
  },
  {
   "cell_type": "code",
   "execution_count": 199,
   "metadata": {},
   "outputs": [
    {
     "data": {
      "image/png": "[encoded data removed]",
      "text/plain": [
       "plot without title"
      ]
     },
     "metadata": {
      "image/png": {
       "height": 180,
       "width": 180
      }
     },
     "output_type": "display_data"
    }
   ],
   "source": [
    "iris  %>%\n",
    "    ggplot() + ## remember: plot elements are combined with '+'\n",
    "        aes(Petal.Length, Petal.Width) + ## for brevity, you can include the aes in the ggplot call\n",
    "        geom_point()"
   ]
  },
  {
   "cell_type": "markdown",
   "metadata": {},
   "source": [
    "<span class=\"badge\">3</span> refine as desired"
   ]
  },
  {
   "cell_type": "code",
   "execution_count": 201,
   "metadata": {},
   "outputs": [
    {
     "data": {
      "image/png": "[encoded data removed]",
      "text/plain": [
       "plot without title"
      ]
     },
     "metadata": {
      "image/png": {
       "height": 180,
       "width": 180
      }
     },
     "output_type": "display_data"
    }
   ],
   "source": [
    "last_plot() + ## last_plot() recalls the previous plot produced\n",
    "    aes(color = Species) "
   ]
  },
  {
   "cell_type": "markdown",
   "metadata": {},
   "source": [
    "### Examples"
   ]
  },
  {
   "cell_type": "markdown",
   "metadata": {},
   "source": [
    "You can layer your plots:"
   ]
  },
  {
   "cell_type": "code",
   "execution_count": 208,
   "metadata": {},
   "outputs": [],
   "source": [
    "myPlot <- ## save the partial plot object\n",
    "iris %>%\n",
    "    ggplot(aes(Petal.Length, Petal.Width))"
   ]
  },
  {
   "cell_type": "code",
   "execution_count": 211,
   "metadata": {
    "scrolled": true
   },
   "outputs": [
    {
     "name": "stderr",
     "output_type": "stream",
     "text": [
      "`geom_smooth()` using formula 'y ~ x'\n",
      "\n"
     ]
    },
    {
     "data": {
      "image/png": "[encoded data removed]",
      "text/plain": [
       "plot without title"
      ]
     },
     "metadata": {
      "image/png": {
       "height": 180,
       "width": 180
      }
     },
     "output_type": "display_data"
    }
   ],
   "source": [
    "myPlot +\n",
    "    geom_point() + ## a scatterplot layer\n",
    "    geom_smooth(method = \"lm\") ## a line layer"
   ]
  },
  {
   "cell_type": "markdown",
   "metadata": {},
   "source": [
    "You can add separate data to plot layers:"
   ]
  },
  {
   "cell_type": "code",
   "execution_count": 214,
   "metadata": {},
   "outputs": [
    {
     "data": {
      "image/png": "[encoded data removed]",
      "text/plain": [
       "plot without title"
      ]
     },
     "metadata": {
      "image/png": {
       "height": 180,
       "width": 180
      }
     },
     "output_type": "display_data"
    }
   ],
   "source": [
    "myPlot +\n",
    "    geom_point() +\n",
    "    geom_point(data = data.frame(x=5, y=2),\n",
    "               aes(x,y),\n",
    "               color = \"red\", size = 5\n",
    "    )"
   ]
  },
  {
   "cell_type": "markdown",
   "metadata": {},
   "source": [
    "What about one plot per Species? (Such \"small multiples\" often improve chart legibility)"
   ]
  },
  {
   "cell_type": "code",
   "execution_count": 217,
   "metadata": {},
   "outputs": [
    {
     "data": {
      "image/png": "[encoded data removed]",
      "text/plain": [
       "plot without title"
      ]
     },
     "metadata": {
      "image/png": {
       "height": 180,
       "width": 180
      }
     },
     "output_type": "display_data"
    }
   ],
   "source": [
    "myPlot +\n",
    "    geom_point() +\n",
    "    facet_wrap(~ Species)"
   ]
  },
  {
   "cell_type": "code",
   "execution_count": 237,
   "metadata": {},
   "outputs": [
    {
     "name": "stderr",
     "output_type": "stream",
     "text": [
      "Warning message:\n",
      "\"Removed 6 rows containing non-finite values (stat_boxplot).\"\n"
     ]
    },
    {
     "data": {
      "image/png": "[encoded data removed]",
      "text/plain": [
       "plot without title"
      ]
     },
     "metadata": {
      "image/png": {
       "height": 180,
       "width": 180
      }
     },
     "output_type": "display_data"
    }
   ],
   "source": [
    "starwars %>%\n",
    "    ggplot(aes(homeworld,height)) +\n",
    "        geom_boxplot() +\n",
    "        coord_flip() + ## flip axes\n",
    "        labs(x=\"origin\", \"body height\")"
   ]
  },
  {
   "cell_type": "markdown",
   "metadata": {},
   "source": [
    "Where's Luke?"
   ]
  },
  {
   "cell_type": "code",
   "execution_count": 240,
   "metadata": {},
   "outputs": [
    {
     "name": "stderr",
     "output_type": "stream",
     "text": [
      "Warning message:\n",
      "\"Removed 6 rows containing non-finite values (stat_boxplot).\"\n"
     ]
    },
    {
     "data": {
      "image/png": "[encoded data removed]",
      "text/plain": [
       "plot without title"
      ]
     },
     "metadata": {
      "image/png": {
       "height": 180,
       "width": 180
      }
     },
     "output_type": "display_data"
    }
   ],
   "source": [
    "last_plot() +\n",
    "    geom_point(data = starwars %>%\n",
    "                      filter(grepl(\"*Luke*\", name)),\n",
    "              col = \"red\", size=5)"
   ]
  },
  {
   "cell_type": "markdown",
   "metadata": {},
   "source": [
    "exporting:"
   ]
  },
  {
   "cell_type": "code",
   "execution_count": 244,
   "metadata": {},
   "outputs": [
    {
     "name": "stderr",
     "output_type": "stream",
     "text": [
      "Saving 6.67 x 6.67 in image\n",
      "\n",
      "Warning message:\n",
      "\"Removed 6 rows containing non-finite values (stat_boxplot).\"\n"
     ]
    }
   ],
   "source": [
    "ggsave(\"test.svg\", height=5, width=10) ## export format recognized from extensiono"
   ]
  },
  {
   "cell_type": "markdown",
   "metadata": {},
   "source": [
    " <div class=\"h1\">\n",
    "\n",
    "How to move on?\n",
    "\n",
    "</div>"
   ]
  },
  {
   "cell_type": "markdown",
   "metadata": {},
   "source": [
    "- ggplot and extensions should provide chart types for almost every use.\n",
    "- ggplot <a href=\"https://www.htmlwidgets.org/\" target=\"_blank\">cheatsheets</a> help to get familiar with the package\n",
    "- for interactive online charts, dashboards etc. consider:\n",
    "   - <a href=\"https://www.htmlwidgets.org/\" target=\"_blank\">htmlwidgets for R</a>, especially plotly and leaflet (for maps)\n",
    "   - <a href=\"https://shiny.rstudio.com/\" target=\"_blank\">Shiny</a> (integrates with RStudio)\n",
    "- Finetuning beyond ggplot's capabilities is easy with dedicated software (export as SVG and edit, e.g. with open source free Inkscape)"
   ]
  }
 ],
 "metadata": {
  "kernelspec": {
   "display_name": "R",
   "language": "R",
   "name": "ir"
  },
  "language_info": {
   "codemirror_mode": "r",
   "file_extension": ".r",
   "mimetype": "text/x-r-source",
   "name": "R",
   "pygments_lexer": "r",
   "version": "4.0.0"
  },
  "toc": {
   "base_numbering": 1,
   "nav_menu": {},
   "number_sections": false,
   "sideBar": true,
   "skip_h1_title": false,
   "title_cell": "Table of Contents",
   "title_sidebar": "Contents",
   "toc_cell": false,
   "toc_position": {},
   "toc_section_display": true,
   "toc_window_display": false
  }
 },
 "nbformat": 4,
 "nbformat_minor": 2
}
