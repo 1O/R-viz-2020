{
 "cells": [
  {
   "cell_type": "markdown",
   "metadata": {
    "slideshow": {
     "slide_type": "slide"
    }
   },
   "source": [
    "# What's this?\n",
    "\n",
    "This is an R-notebook. It consists of cells (text cells and code cells).\n",
    "\n",
    "- To change the code in a cell, click (cell border turns green) and type away.\n",
    "- To run the code hit \\[CTRL\\] and \\[ENTER\\] at the same time\n",
    "\n",
    "Further keyboard shortcuts:\n",
    "\n",
    "- H for Help\n",
    "- \\[Esc\\] to stop editing\n",
    "- to add a cell above or below the current, key A or B\n",
    "- to delete a cell, key D twice\n",
    "\n",
    "**Don't worry, this is your individual copy. If you get totally lost, just revisit the link 'R-notebook'**"
   ]
  },
  {
   "cell_type": "code",
   "execution_count": null,
   "metadata": {
    "slideshow": {
     "slide_type": "slide"
    },
    "solution2": "hidden",
    "solution2_first": true
   },
   "outputs": [],
   "source": []
  },
  {
   "cell_type": "code",
   "execution_count": null,
   "metadata": {
    "slideshow": {
     "slide_type": "fragment"
    },
    "solution2": "hidden"
   },
   "outputs": [],
   "source": [
    "1*1"
   ]
  }
 ],
 "metadata": {
  "kernelspec": {
   "display_name": "R",
   "language": "R",
   "name": "ir"
  },
  "language_info": {
   "codemirror_mode": "r",
   "file_extension": ".r",
   "mimetype": "text/x-r-source",
   "name": "R",
   "pygments_lexer": "r",
   "version": "4.0.0"
  },
  "toc": {
   "base_numbering": 1,
   "nav_menu": {},
   "number_sections": false,
   "sideBar": true,
   "skip_h1_title": false,
   "title_cell": "Table of Contents",
   "title_sidebar": "Contents",
   "toc_cell": false,
   "toc_position": {},
   "toc_section_display": true,
   "toc_window_display": false
  }
 },
 "nbformat": 4,
 "nbformat_minor": 2
}
